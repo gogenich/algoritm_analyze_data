{
 "cells": [
  {
   "cell_type": "markdown",
   "id": "f3e924f6",
   "metadata": {},
   "source": [
    "Домашнее задание\n",
    "\n",
    "\n",
    "К алгоритму kNN, представленному на уроке, реализуйте добавление весов для соседей по любому из показанных на уроке принципов. Сравните точность нового алгоритма с исходным при разных значениях k."
   ]
  },
  {
   "cell_type": "markdown",
   "id": "5d1caeb4",
   "metadata": {},
   "source": [
    "импортируем необходимые библиотеки и функции"
   ]
  },
  {
   "cell_type": "code",
   "execution_count": 54,
   "id": "8b415f42",
   "metadata": {},
   "outputs": [],
   "source": [
    "import numpy as np\n",
    "from sklearn import model_selection\n",
    "from sklearn.datasets import load_iris\n",
    "import matplotlib.pyplot as plt\n",
    "from matplotlib.colors import ListedColormap\n",
    "\n",
    "def e_metrics(x1, x2):\n",
    "    distance = 0\n",
    "    for i in range(len(x1)):\n",
    "        distance += np.square(x1[i] - x2[i])\n",
    "    return np.sqrt(distance)\n",
    "\n",
    "def knn(x_train, y_train, x_test, k):\n",
    "    \n",
    "    answers = []\n",
    "    for x in x_test:\n",
    "        test_distances = []\n",
    "            \n",
    "        for i in range(len(x_train)):\n",
    "            \n",
    "            # расчет расстояния от классифицируемого объекта до\n",
    "            # объекта обучающей выборки\n",
    "            distance = e_metrics(x, x_train[i])\n",
    "            \n",
    "            # Записываем в список значение расстояния и ответа на объекте обучающей выборки\n",
    "            test_distances.append((distance, y_train[i]))\n",
    "        \n",
    "        # отберем k ближайших соседей\n",
    "        k_neighbours = sorted(test_distances)[0:k]\n",
    "                \n",
    "        # создаем словарь со всеми возможными классами\n",
    "        classes = {class_item: 0 for class_item in set(y_train)}\n",
    "        \n",
    "        # Сортируем список и среди первых k элементов подсчитаем частоту появления разных классов\n",
    "        for d in k_neighbours:\n",
    "            classes[d[1]] += 1 # вес каждого соседа равен 1\n",
    "            \n",
    "        # Записываем в список ответов наиболее часто встречающийся класс\n",
    "        answers.append(sorted(classes, key=classes.get)[-1])\n",
    "    return answers\n",
    "\n",
    "def accuracy(pred, y):\n",
    "    return (sum(pred == y) / len(y))"
   ]
  },
  {
   "cell_type": "markdown",
   "id": "f32a7a0e",
   "metadata": {},
   "source": [
    "импортируем данные  и построим график зависимости ошибки от параметра К"
   ]
  },
  {
   "cell_type": "code",
   "execution_count": 55,
   "id": "345c276f",
   "metadata": {},
   "outputs": [],
   "source": [
    "X, y = load_iris(return_X_y=True)\n",
    "# Для наглядности возьмем только первые два признака (всего в датасете их 4)\n",
    "X = X[:, :2]\n",
    "X_train, X_test, y_train, y_test = model_selection.train_test_split(X, y, test_size=0.2, random_state=1)\n"
   ]
  },
  {
   "cell_type": "code",
   "execution_count": 56,
   "id": "b1d8ff0d",
   "metadata": {},
   "outputs": [
    {
     "name": "stdout",
     "output_type": "stream",
     "text": [
      "Точность алгоритма при k = 1: 0.667\n"
     ]
    }
   ],
   "source": [
    "k = 1\n",
    "\n",
    "y_pred = knn(X_train, y_train, X_test, k)\n",
    "\n",
    "print(f'Точность алгоритма при k = {k}: {accuracy(y_pred, y_test):.3f}')"
   ]
  },
  {
   "cell_type": "markdown",
   "id": "f771771a",
   "metadata": {},
   "source": [
    "добавим в переменную errсписок ошибок по предсказаниям без добавления весов"
   ]
  },
  {
   "cell_type": "code",
   "execution_count": 57,
   "id": "7a6cd2f9",
   "metadata": {},
   "outputs": [],
   "source": [
    "k = 10\n",
    "err_0 = []\n",
    "for el in range(1, k + 1):\n",
    "    y_pred = knn(X_train, y_train, X_test, el)\n",
    "    err_0.append(accuracy(y_pred, y_test))"
   ]
  },
  {
   "cell_type": "markdown",
   "id": "ad66cc92",
   "metadata": {},
   "source": [
    "реализаем алгорим с добавление весов"
   ]
  },
  {
   "cell_type": "code",
   "execution_count": 67,
   "id": "1b86ec10",
   "metadata": {},
   "outputs": [],
   "source": [
    "def knn(x_train, y_train, x_test, k):\n",
    "    \n",
    "    answers = []\n",
    "    for x in x_test:\n",
    "        test_distances = []\n",
    "            \n",
    "        for i in range(len(x_train)):\n",
    "            \n",
    "            # расчет расстояния от классифицируемого объекта до\n",
    "            # объекта обучающей выборки\n",
    "            distance = e_metrics(x, x_train[i])\n",
    "            \n",
    "            # Записываем в список значение расстояния и ответа на объекте обучающей выборки\n",
    "            test_distances.append((distance, y_train[i]))\n",
    "        \n",
    "        # отберем k ближайших соседей\n",
    "        k_neighbours = sorted(test_distances)[0:k]\n",
    "                \n",
    "        # создаем словарь со всеми возможными классами\n",
    "        classes = {class_item: 0 for class_item in set(y_train)}\n",
    "        \n",
    "        \n",
    "        # Сортируем список и среди первых k элементов подсчитаем частоту появления разных классов\n",
    "        i = 1\n",
    "        for d in k_neighbours:\n",
    "            w = (k + 1 - i) / k\n",
    "            i += 1\n",
    "            classes[d[1]] += w # вес каждого соседа равен 1\n",
    "            \n",
    "        # Записываем в список ответов наиболее часто встречающийся класс\n",
    "        answers.append(sorted(classes, key=classes.get)[-1])\n",
    "    return answers\n"
   ]
  },
  {
   "cell_type": "code",
   "execution_count": 71,
   "id": "c12879c6",
   "metadata": {},
   "outputs": [],
   "source": [
    "k = 10\n",
    "err_1 = []\n",
    "for el in range(1, k + 1):\n",
    "    y_pred = knn(X_train, y_train, X_test, el)\n",
    "    err_1.append(accuracy(y_pred, y_test))"
   ]
  },
  {
   "cell_type": "code",
   "execution_count": 72,
   "id": "af7fe654",
   "metadata": {},
   "outputs": [
    {
     "data": {
      "image/png": "[encoded data removed]",
      "text/plain": [
       "<Figure size 432x288 with 1 Axes>"
      ]
     },
     "metadata": {
      "needs_background": "light"
     },
     "output_type": "display_data"
    }
   ],
   "source": [
    "k = [el for el in range(1, k + 1)]\n",
    "plt.xlabel('k')\n",
    "plt.ylabel('err')\n",
    "plt.xlim(0, 11)\n",
    "plt.ylim(0, 1)\n",
    "plt.plot(k, err_0, label='without weights',color='k')\n",
    "plt.plot(k, err_1, label='with weights',color='b')\n",
    "\n",
    "plt.legend(loc='lower right')\n",
    "plt.show()"
   ]
  },
  {
   "cell_type": "markdown",
   "id": "5bbe7d5b",
   "metadata": {},
   "source": [
    "добавим еще несколько способов вычисления весов"
   ]
  },
  {
   "cell_type": "code",
   "execution_count": 73,
   "id": "f9deb00d",
   "metadata": {},
   "outputs": [],
   "source": [
    "def knn(x_train, y_train, x_test, k):\n",
    "    \n",
    "    answers = []\n",
    "    for x in x_test:\n",
    "        test_distances = []\n",
    "            \n",
    "        for i in range(len(x_train)):\n",
    "            \n",
    "            # расчет расстояния от классифицируемого объекта до\n",
    "            # объекта обучающей выборки\n",
    "            distance = e_metrics(x, x_train[i])\n",
    "            \n",
    "            # Записываем в список значение расстояния и ответа на объекте обучающей выборки\n",
    "            test_distances.append((distance, y_train[i]))\n",
    "        \n",
    "        # отберем k ближайших соседей\n",
    "        k_neighbours = sorted(test_distances)[0:k]\n",
    "                \n",
    "        # создаем словарь со всеми возможными классами\n",
    "        classes = {class_item: 0 for class_item in set(y_train)}\n",
    "        \n",
    "        \n",
    "        # Сортируем список и среди первых k элементов подсчитаем частоту появления разных классов\n",
    "        i = 1\n",
    "        for d in k_neighbours:\n",
    "            w = 1/i\n",
    "            i += 1\n",
    "            classes[d[1]] += w # вес каждого соседа равен 1\n",
    "            \n",
    "        # Записываем в список ответов наиболее часто встречающийся класс\n",
    "        answers.append(sorted(classes, key=classes.get)[-1])\n",
    "    return answers\n",
    "\n",
    "k = 10\n",
    "err_2 = []\n",
    "for el in range(1, k + 1):\n",
    "    y_pred = knn(X_train, y_train, X_test, el)\n",
    "    err_2.append(accuracy(y_pred, y_test))"
   ]
  },
  {
   "cell_type": "code",
   "execution_count": 74,
   "id": "cb29cd6b",
   "metadata": {},
   "outputs": [
    {
     "data": {
      "image/png": "[encoded data removed]",
      "text/plain": [
       "<Figure size 432x288 with 1 Axes>"
      ]
     },
     "metadata": {
      "needs_background": "light"
     },
     "output_type": "display_data"
    }
   ],
   "source": [
    "k = [el for el in range(1, k + 1)]\n",
    "plt.xlabel('k')\n",
    "plt.ylabel('err')\n",
    "plt.xlim(0, 11)\n",
    "plt.ylim(0, 1)\n",
    "plt.plot(k, err_0, label='without weights',color='k')\n",
    "plt.plot(k, err_1, label='with weights',color='b')\n",
    "plt.plot(k, err_2, label='with weights_(1/i)',color='r')\n",
    "plt.legend(loc='lower right')\n",
    "plt.show()"
   ]
  },
  {
   "cell_type": "markdown",
   "id": "ef848365",
   "metadata": {},
   "source": [
    "на графике видно что добавление весов не всегда приводит к лучшим меетрикам  чем без весов но если подбирать более сложные расчеты и пробовать все это на других данных я думаю веса будут играть значительную роль в расчетах метрик"
   ]
  }
 ],
 "metadata": {
  "kernelspec": {
   "display_name": "Python 3",
   "language": "python",
   "name": "python3"
  },
  "language_info": {
   "codemirror_mode": {
    "name": "ipython",
    "version": 3
   },
   "file_extension": ".py",
   "mimetype": "text/x-python",
   "name": "python",
   "nbconvert_exporter": "python",
   "pygments_lexer": "ipython3",
   "version": "3.8.10"
  }
 },
 "nbformat": 4,
 "nbformat_minor": 5
}
