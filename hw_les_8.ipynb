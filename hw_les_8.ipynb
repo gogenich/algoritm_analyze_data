{
 "cells": [
  {
   "cell_type": "markdown",
   "id": "3bfea54f",
   "metadata": {},
   "source": [
    " # 1 \n",
    " Можно ли отобрать наиболее значимые признаки с помощью PCA? Ответ объясните.\n",
    "\n",
    "да можно, масштабируем признаки и по матрице весов смотрим где веса меньше значит и признак меньше значимый"
   ]
  },
  {
   "cell_type": "markdown",
   "id": "42d7f07d",
   "metadata": {},
   "source": [
    " # 2(*)\n",
    " Написать свою реализацию метода главных компонент с помощью сингулярного разложения с использованием функции numpy.linalg.svd(). Применить к данным на уроке и сравнить ответы."
   ]
  },
  {
   "cell_type": "code",
   "execution_count": 155,
   "id": "d1c75ba0",
   "metadata": {},
   "outputs": [],
   "source": [
    "import numpy as np\n",
    "from sklearn import model_selection\n",
    "from sklearn.datasets import load_iris\n",
    "import matplotlib.pyplot as plt\n",
    "from matplotlib.colors import ListedColormap"
   ]
  },
  {
   "cell_type": "markdown",
   "id": "ec70ad43",
   "metadata": {},
   "source": [
    "сначала напишем реализацию PCA которая была на уроке"
   ]
  },
  {
   "cell_type": "code",
   "execution_count": 156,
   "id": "eb83a86d",
   "metadata": {},
   "outputs": [
    {
     "data": {
      "image/png": "[encoded data removed]",
      "text/plain": [
       "<Figure size 432x288 with 1 Axes>"
      ]
     },
     "metadata": {
      "needs_background": "light"
     },
     "output_type": "display_data"
    }
   ],
   "source": [
    "# Загрузим игрушечный датасет из sklearn\n",
    "iris = datasets.load_iris()\n",
    "X = iris.data\n",
    "\n",
    "# Для начала отмасштабируем выборку\n",
    "X_ = X.astype(float)\n",
    "\n",
    "rows, cols = X_.shape\n",
    "\n",
    "# центрирование - вычитание из каждого значения среднего по признаку\n",
    "means = X_.mean(axis=0)\n",
    "for i in range(rows):\n",
    "    for j in range(cols):\n",
    "        X_[i, j] -= means[j]\n",
    "\n",
    "# деление каждого значения на стандартное отклонение\n",
    "std = np.std(X_, axis=0)\n",
    "for j in range(cols):\n",
    "    for i in range(rows):\n",
    "        X_[i, j] /= std[j]\n",
    "\n",
    "# Найдем собственные векторы и собственные значения\n",
    " \n",
    "covariance_matrix = X_.T.dot(X_)\n",
    "\n",
    "eig_values, eig_vectors = np.linalg.eig(covariance_matrix)\n",
    "\n",
    "# сформируем список кортежей (собственное значение, собственный вектор)\n",
    "eig_pairs = [(np.abs(eig_values[i]), eig_vectors[:, i]) for i in range(len(eig_values))]\n",
    "\n",
    "# и отсортируем список по убыванию собственных значений\n",
    "eig_pairs.sort(key=lambda x: x[0], reverse=True)\n",
    "\n",
    "# Сформируем вектор весов из собственных векторов, соответствующих первым двум главным компонентам\n",
    "W = np.hstack((eig_pairs[0][1].reshape(4,1), eig_pairs[1][1].reshape(4,1)))\n",
    "\n",
    "# Сформируем новую матрицу \"объекты-признаки\"\n",
    "Z = X_.dot(W)\n",
    "Z.shape\n",
    "\n",
    "plt.figure()\n",
    "y = iris.target\n",
    "for c, i in zip(\"rgb\", [0, 1, 2]):\n",
    "    plt.scatter(Z[y==i, 0], Z[y==i, 1], c=c)\n",
    "plt.xlabel('Главная компонента 1')\n",
    "plt.ylabel('Главная компонента 2')\n",
    "plt.title('PCA датасета IRIS')\n",
    "plt.show()"
   ]
  },
  {
   "cell_type": "markdown",
   "id": "8cac656d",
   "metadata": {},
   "source": [
    "А таперь напишем реализацию PCA с помощью разложения матрицы"
   ]
  },
  {
   "cell_type": "code",
   "execution_count": 157,
   "id": "7a524e23",
   "metadata": {},
   "outputs": [
    {
     "data": {
      "image/png": "[encoded data removed]",
      "text/plain": [
       "<Figure size 432x288 with 1 Axes>"
      ]
     },
     "metadata": {
      "needs_background": "light"
     },
     "output_type": "display_data"
    }
   ],
   "source": [
    "#сингулярное разложение матрицы признаков\n",
    "U, D, V = np.linalg.svd(X_)\n",
    "\n",
    "#формируем список весов\n",
    "W_T = V.T.tolist()\n",
    "W_T.sort(key=lambda x: sum(x), reverse=True)\n",
    "W = np.array(W_T).T\n",
    "\n",
    "#убираем столбец с последними весами\n",
    "W = W[:-1]\n",
    "\n",
    "# Сформируем новую матрицу \"объекты-признаки\"\n",
    "Z = X_.dot(W.T)\n",
    "\n",
    "plt.figure()\n",
    "y = iris.target\n",
    "for c, i in zip(\"rgb\", [0, 1, 2]):\n",
    "    plt.scatter(Z[y==i, 0], Z[y==i, 1], c=c)\n",
    "plt.xlabel('Главная компонента 1')\n",
    "plt.ylabel('Главная компонента 2')\n",
    "plt.title('PCA датасета IRIS')\n",
    "plt.show()"
   ]
  },
  {
   "cell_type": "markdown",
   "id": "a4f18bba",
   "metadata": {},
   "source": [
    "я думаю что второй способ лючше снизил размерность данных чем первый"
   ]
  },
  {
   "cell_type": "markdown",
   "id": "490d3705",
   "metadata": {},
   "source": [
    "# 3(*)\n",
    "Обучить любую модель классификации (из рассмотренных в курсе) на датасете IRIS до применения PCA и после него. Сравнить качество классификации по отложенной выборке."
   ]
  },
  {
   "cell_type": "markdown",
   "id": "13e5fe82",
   "metadata": {},
   "source": [
    "сначала импортируем модель кнн"
   ]
  },
  {
   "cell_type": "code",
   "execution_count": 186,
   "id": "32b7fe1b",
   "metadata": {},
   "outputs": [],
   "source": [
    "def e_metrics(x1, x2):\n",
    "    distance = 0\n",
    "    for i in range(len(x1)):\n",
    "        distance += np.square(x1[i] - x2[i])\n",
    "    return np.sqrt(distance)\n",
    "def knn(x_train, y_train, x_test, k):\n",
    "    \n",
    "    answers = []\n",
    "    for x in x_test:\n",
    "        test_distances = []\n",
    "            \n",
    "        for i in range(len(x_train)):\n",
    "            \n",
    "            # расчет расстояния от классифицируемого объекта до\n",
    "            # объекта обучающей выборки\n",
    "            distance = e_metrics(x, x_train[i])\n",
    "            \n",
    "            # Записываем в список значение расстояния и ответа на объекте обучающей выборки\n",
    "            test_distances.append((distance, y_train[i]))\n",
    "        \n",
    "        # отберем k ближайших соседей\n",
    "        k_neighbours = sorted(test_distances)[0:k]\n",
    "                \n",
    "        # создаем словарь со всеми возможными классами\n",
    "        classes = {class_item: 0 for class_item in set(y_train)}\n",
    "        \n",
    "        \n",
    "        # Сортируем список и среди первых k элементов подсчитаем частоту появления разных классов\n",
    "        i = 1\n",
    "        for d in k_neighbours:\n",
    "            w = 1/i\n",
    "            i += 1\n",
    "            classes[d[1]] += w # вес каждого соседа равен 1\n",
    "            \n",
    "        # Записываем в список ответов наиболее часто встречающийся класс\n",
    "        answers.append(sorted(classes, key=classes.get)[-1])\n",
    "    return answers\n",
    "\n",
    "def accuracy(pred, y):\n",
    "    return (sum(pred == y) / len(y))"
   ]
  },
  {
   "cell_type": "markdown",
   "id": "b592cc02",
   "metadata": {},
   "source": [
    "импортируем данные"
   ]
  },
  {
   "cell_type": "code",
   "execution_count": 187,
   "id": "5ec85ba4",
   "metadata": {},
   "outputs": [],
   "source": [
    "X, y = load_iris(return_X_y=True)\n",
    "\n",
    "# Для начала отмасштабируем выборку\n",
    "X_ = X.astype(float)\n",
    "\n",
    "rows, cols = X_.shape\n",
    "\n",
    "# центрирование - вычитание из каждого значения среднего по признаку\n",
    "means = X_.mean(axis=0)\n",
    "for i in range(rows):\n",
    "    for j in range(cols):\n",
    "        X_[i, j] -= means[j]\n",
    "\n",
    "# деление каждого значения на стандартное отклонение\n",
    "std = np.std(X_, axis=0)\n",
    "for j in range(cols):\n",
    "    for i in range(rows):\n",
    "        X_[i, j] /= std[j]\n",
    "\n",
    "X_train, X_test, y_train, y_test = model_selection.train_test_split(X_, y, test_size=0.2, random_state=1)"
   ]
  },
  {
   "cell_type": "markdown",
   "id": "e7f31672",
   "metadata": {},
   "source": [
    "обучим нашу модель,добавим в переменную err список ошибок по предсказаниям без снижения размерности"
   ]
  },
  {
   "cell_type": "code",
   "execution_count": 188,
   "id": "7be0c161",
   "metadata": {},
   "outputs": [],
   "source": [
    "k = 10\n",
    "err_0 = []\n",
    "for el in range(1, k + 1):\n",
    "    y_pred = knn(X_train, y_train, X_test, el)\n",
    "    err_0.append(accuracy(y_pred, y_test))"
   ]
  },
  {
   "cell_type": "markdown",
   "id": "65b334d1",
   "metadata": {},
   "source": [
    "применим РСА"
   ]
  },
  {
   "cell_type": "code",
   "execution_count": 189,
   "id": "70a52117",
   "metadata": {},
   "outputs": [],
   "source": [
    "#сингулярное разложение матрицы признаков\n",
    "U, D, V = np.linalg.svd(X_)\n",
    "\n",
    "#формируем список весов\n",
    "W_T = V.T.tolist()\n",
    "W_T.sort(key=lambda x: sum(x), reverse=True)\n",
    "W = np.array(W_T).T\n",
    "\n",
    "#убираем столбец с последними весами\n",
    "W = W[:-1]\n",
    "\n",
    "# Сформируем новую матрицу \"объекты-признаки\"\n",
    "Z = X_.dot(W.T)"
   ]
  },
  {
   "cell_type": "markdown",
   "id": "d96d45b5",
   "metadata": {},
   "source": [
    "рабзиваем выборку"
   ]
  },
  {
   "cell_type": "code",
   "execution_count": 190,
   "id": "1adc0cfd",
   "metadata": {},
   "outputs": [],
   "source": [
    "X_train, X_test, y_train, y_test = model_selection.train_test_split(Z, y, test_size=0.2, random_state=1)"
   ]
  },
  {
   "cell_type": "markdown",
   "id": "71a2481a",
   "metadata": {},
   "source": [
    "обучаем модельку"
   ]
  },
  {
   "cell_type": "code",
   "execution_count": 198,
   "id": "724698d9",
   "metadata": {},
   "outputs": [],
   "source": [
    "k = 10\n",
    "err_1 = []\n",
    "for el in range(1, k + 1):\n",
    "    y_pred = knn(X_train, y_train, X_test, el)\n",
    "    err_1.append(accuracy(y_pred, y_test))"
   ]
  },
  {
   "cell_type": "markdown",
   "id": "ca7d630d",
   "metadata": {},
   "source": [
    "строим график"
   ]
  },
  {
   "cell_type": "code",
   "execution_count": 200,
   "id": "5329bc8d",
   "metadata": {},
   "outputs": [
    {
     "data": {
      "image/png": "[encoded data removed]",
      "text/plain": [
       "<Figure size 432x288 with 1 Axes>"
      ]
     },
     "metadata": {
      "needs_background": "light"
     },
     "output_type": "display_data"
    }
   ],
   "source": [
    "k = [el for el in range(1, k + 1)]\n",
    "plt.xlabel('k')\n",
    "plt.ylabel('err')\n",
    "plt.xlim(0, 11)\n",
    "plt.ylim(0, 2)\n",
    "plt.plot(k, err_0, label='without PCA ',color='r')\n",
    "plt.plot(k, err_1, label='with PCA',color='b')\n",
    "\n",
    "plt.legend(loc='lower right')\n",
    "plt.show()"
   ]
  },
  {
   "cell_type": "markdown",
   "id": "c80f314b",
   "metadata": {},
   "source": [
    "в данном случае мы видим что модель где мы снижали размерность идеально классифицировала данные"
   ]
  },
  {
   "cell_type": "code",
   "execution_count": null,
   "id": "a0180142",
   "metadata": {},
   "outputs": [],
   "source": []
  }
 ],
 "metadata": {
  "kernelspec": {
   "display_name": "Python 3",
   "language": "python",
   "name": "python3"
  },
  "language_info": {
   "codemirror_mode": {
    "name": "ipython",
    "version": 3
   },
   "file_extension": ".py",
   "mimetype": "text/x-python",
   "name": "python",
   "nbconvert_exporter": "python",
   "pygments_lexer": "ipython3",
   "version": "3.8.10"
  }
 },
 "nbformat": 4,
 "nbformat_minor": 5
}
